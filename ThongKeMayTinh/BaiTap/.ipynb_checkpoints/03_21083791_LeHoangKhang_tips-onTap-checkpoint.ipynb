{
 "cells": [
  {
   "cell_type": "markdown",
   "id": "15e9ec4f",
   "metadata": {},
   "source": [
    "# KHÁM PHÁ DỮ LIỆU\n",
    "\n",
    "Dữ liệu chứa trong file `tips.csv` chứa thông tin tiền tip của khách hàng tại một nhà hàng. Dữ liệu có các thông tin sau:\n",
    "\n",
    "- `total_bill`: tổng hoá đơn (USD)\n",
    "- `tip`: tiền tip/ tiền boa (USD)\n",
    "- `sex`: giới tính người thanh toán hóa đơn\n",
    "- `smoker`: có hút thuốc hay không\n",
    "- `day`: ngày trong tuần\n",
    "- `time`: thời gian dùng bữa(buổi sáng, buổi trưa, buổi tối)\n",
    "- `size`: số lượng người tham gia\n",
    "\n",
    "Bạn hãy thực hiện thống kê mô tả để tìm hiểu về hành vi tip của khách hàng tại nhà hàng"
   ]
  },
  {
   "cell_type": "markdown",
   "id": "02bd0e4c",
   "metadata": {},
   "source": [
    "## HIỂU DỮ LIỆU"
   ]
  },
  {
   "cell_type": "markdown",
   "id": "d846edfc",
   "metadata": {},
   "source": [
    "1. Đọc dữ liệu\n"
   ]
  },
  {
   "cell_type": "code",
   "execution_count": 2,
   "id": "8c4d8e1b-d834-4591-a2e2-58414248a676",
   "metadata": {},
   "outputs": [
    {
     "data": {
      "text/html": [
       "<div>\n",
       "<style scoped>\n",
       "    .dataframe tbody tr th:only-of-type {\n",
       "        vertical-align: middle;\n",
       "    }\n",
       "\n",
       "    .dataframe tbody tr th {\n",
       "        vertical-align: top;\n",
       "    }\n",
       "\n",
       "    .dataframe thead th {\n",
       "        text-align: right;\n",
       "    }\n",
       "</style>\n",
       "<table border=\"1\" class=\"dataframe\">\n",
       "  <thead>\n",
       "    <tr style=\"text-align: right;\">\n",
       "      <th></th>\n",
       "      <th>Unnamed: 0</th>\n",
       "      <th>total_bill</th>\n",
       "      <th>tip</th>\n",
       "      <th>sex</th>\n",
       "      <th>smoker</th>\n",
       "      <th>day</th>\n",
       "      <th>time</th>\n",
       "      <th>size</th>\n",
       "    </tr>\n",
       "  </thead>\n",
       "  <tbody>\n",
       "    <tr>\n",
       "      <th>0</th>\n",
       "      <td>0</td>\n",
       "      <td>16.99</td>\n",
       "      <td>1.01</td>\n",
       "      <td>Female</td>\n",
       "      <td>No</td>\n",
       "      <td>Sun</td>\n",
       "      <td>Dinner</td>\n",
       "      <td>2</td>\n",
       "    </tr>\n",
       "    <tr>\n",
       "      <th>1</th>\n",
       "      <td>1</td>\n",
       "      <td>10.34</td>\n",
       "      <td>1.66</td>\n",
       "      <td>Male</td>\n",
       "      <td>No</td>\n",
       "      <td>Sun</td>\n",
       "      <td>Dinner</td>\n",
       "      <td>3</td>\n",
       "    </tr>\n",
       "    <tr>\n",
       "      <th>2</th>\n",
       "      <td>2</td>\n",
       "      <td>21.01</td>\n",
       "      <td>3.50</td>\n",
       "      <td>Male</td>\n",
       "      <td>No</td>\n",
       "      <td>Sun</td>\n",
       "      <td>Dinner</td>\n",
       "      <td>3</td>\n",
       "    </tr>\n",
       "    <tr>\n",
       "      <th>3</th>\n",
       "      <td>3</td>\n",
       "      <td>23.68</td>\n",
       "      <td>3.31</td>\n",
       "      <td>Male</td>\n",
       "      <td>No</td>\n",
       "      <td>Sun</td>\n",
       "      <td>Dinner</td>\n",
       "      <td>2</td>\n",
       "    </tr>\n",
       "    <tr>\n",
       "      <th>4</th>\n",
       "      <td>4</td>\n",
       "      <td>24.59</td>\n",
       "      <td>3.61</td>\n",
       "      <td>Female</td>\n",
       "      <td>No</td>\n",
       "      <td>Sun</td>\n",
       "      <td>Dinner</td>\n",
       "      <td>4</td>\n",
       "    </tr>\n",
       "    <tr>\n",
       "      <th>5</th>\n",
       "      <td>5</td>\n",
       "      <td>25.29</td>\n",
       "      <td>4.71</td>\n",
       "      <td>Male</td>\n",
       "      <td>No</td>\n",
       "      <td>Sun</td>\n",
       "      <td>Dinner</td>\n",
       "      <td>4</td>\n",
       "    </tr>\n",
       "    <tr>\n",
       "      <th>6</th>\n",
       "      <td>6</td>\n",
       "      <td>8.77</td>\n",
       "      <td>2.00</td>\n",
       "      <td>Male</td>\n",
       "      <td>No</td>\n",
       "      <td>Sun</td>\n",
       "      <td>Dinner</td>\n",
       "      <td>2</td>\n",
       "    </tr>\n",
       "    <tr>\n",
       "      <th>7</th>\n",
       "      <td>7</td>\n",
       "      <td>26.88</td>\n",
       "      <td>3.12</td>\n",
       "      <td>Male</td>\n",
       "      <td>No</td>\n",
       "      <td>Sun</td>\n",
       "      <td>Dinner</td>\n",
       "      <td>4</td>\n",
       "    </tr>\n",
       "    <tr>\n",
       "      <th>8</th>\n",
       "      <td>8</td>\n",
       "      <td>15.04</td>\n",
       "      <td>1.96</td>\n",
       "      <td>Male</td>\n",
       "      <td>No</td>\n",
       "      <td>Sun</td>\n",
       "      <td>Dinner</td>\n",
       "      <td>2</td>\n",
       "    </tr>\n",
       "    <tr>\n",
       "      <th>9</th>\n",
       "      <td>9</td>\n",
       "      <td>14.78</td>\n",
       "      <td>3.23</td>\n",
       "      <td>Male</td>\n",
       "      <td>No</td>\n",
       "      <td>Sun</td>\n",
       "      <td>Dinner</td>\n",
       "      <td>2</td>\n",
       "    </tr>\n",
       "  </tbody>\n",
       "</table>\n",
       "</div>"
      ],
      "text/plain": [
       "   Unnamed: 0  total_bill   tip     sex smoker  day    time  size\n",
       "0           0       16.99  1.01  Female     No  Sun  Dinner     2\n",
       "1           1       10.34  1.66    Male     No  Sun  Dinner     3\n",
       "2           2       21.01  3.50    Male     No  Sun  Dinner     3\n",
       "3           3       23.68  3.31    Male     No  Sun  Dinner     2\n",
       "4           4       24.59  3.61  Female     No  Sun  Dinner     4\n",
       "5           5       25.29  4.71    Male     No  Sun  Dinner     4\n",
       "6           6        8.77  2.00    Male     No  Sun  Dinner     2\n",
       "7           7       26.88  3.12    Male     No  Sun  Dinner     4\n",
       "8           8       15.04  1.96    Male     No  Sun  Dinner     2\n",
       "9           9       14.78  3.23    Male     No  Sun  Dinner     2"
      ]
     },
     "execution_count": 2,
     "metadata": {},
     "output_type": "execute_result"
    }
   ],
   "source": [
    "import pandas as pd\n",
    "import matplotlib.pyplot as plt\n",
    "import numpy as np\n",
    "\n",
    "df = pd.read_csv('tips.csv')\n",
    "df.head(10)"
   ]
  },
  {
   "cell_type": "markdown",
   "id": "7392793c",
   "metadata": {},
   "source": [
    "2. Xoá cột `Unnamed: 0`\n"
   ]
  },
  {
   "cell_type": "code",
   "execution_count": 4,
   "id": "2fcdb342-fbd1-4e2f-af0a-9e768cde2805",
   "metadata": {},
   "outputs": [
    {
     "data": {
      "text/html": [
       "<div>\n",
       "<style scoped>\n",
       "    .dataframe tbody tr th:only-of-type {\n",
       "        vertical-align: middle;\n",
       "    }\n",
       "\n",
       "    .dataframe tbody tr th {\n",
       "        vertical-align: top;\n",
       "    }\n",
       "\n",
       "    .dataframe thead th {\n",
       "        text-align: right;\n",
       "    }\n",
       "</style>\n",
       "<table border=\"1\" class=\"dataframe\">\n",
       "  <thead>\n",
       "    <tr style=\"text-align: right;\">\n",
       "      <th></th>\n",
       "      <th>total_bill</th>\n",
       "      <th>tip</th>\n",
       "      <th>sex</th>\n",
       "      <th>smoker</th>\n",
       "      <th>day</th>\n",
       "      <th>time</th>\n",
       "      <th>size</th>\n",
       "    </tr>\n",
       "  </thead>\n",
       "  <tbody>\n",
       "    <tr>\n",
       "      <th>0</th>\n",
       "      <td>16.99</td>\n",
       "      <td>1.01</td>\n",
       "      <td>Female</td>\n",
       "      <td>No</td>\n",
       "      <td>Sun</td>\n",
       "      <td>Dinner</td>\n",
       "      <td>2</td>\n",
       "    </tr>\n",
       "    <tr>\n",
       "      <th>1</th>\n",
       "      <td>10.34</td>\n",
       "      <td>1.66</td>\n",
       "      <td>Male</td>\n",
       "      <td>No</td>\n",
       "      <td>Sun</td>\n",
       "      <td>Dinner</td>\n",
       "      <td>3</td>\n",
       "    </tr>\n",
       "    <tr>\n",
       "      <th>2</th>\n",
       "      <td>21.01</td>\n",
       "      <td>3.50</td>\n",
       "      <td>Male</td>\n",
       "      <td>No</td>\n",
       "      <td>Sun</td>\n",
       "      <td>Dinner</td>\n",
       "      <td>3</td>\n",
       "    </tr>\n",
       "    <tr>\n",
       "      <th>3</th>\n",
       "      <td>23.68</td>\n",
       "      <td>3.31</td>\n",
       "      <td>Male</td>\n",
       "      <td>No</td>\n",
       "      <td>Sun</td>\n",
       "      <td>Dinner</td>\n",
       "      <td>2</td>\n",
       "    </tr>\n",
       "    <tr>\n",
       "      <th>4</th>\n",
       "      <td>24.59</td>\n",
       "      <td>3.61</td>\n",
       "      <td>Female</td>\n",
       "      <td>No</td>\n",
       "      <td>Sun</td>\n",
       "      <td>Dinner</td>\n",
       "      <td>4</td>\n",
       "    </tr>\n",
       "    <tr>\n",
       "      <th>...</th>\n",
       "      <td>...</td>\n",
       "      <td>...</td>\n",
       "      <td>...</td>\n",
       "      <td>...</td>\n",
       "      <td>...</td>\n",
       "      <td>...</td>\n",
       "      <td>...</td>\n",
       "    </tr>\n",
       "    <tr>\n",
       "      <th>239</th>\n",
       "      <td>29.03</td>\n",
       "      <td>5.92</td>\n",
       "      <td>Male</td>\n",
       "      <td>No</td>\n",
       "      <td>Sat</td>\n",
       "      <td>Dinner</td>\n",
       "      <td>3</td>\n",
       "    </tr>\n",
       "    <tr>\n",
       "      <th>240</th>\n",
       "      <td>27.18</td>\n",
       "      <td>2.00</td>\n",
       "      <td>Female</td>\n",
       "      <td>Yes</td>\n",
       "      <td>Sat</td>\n",
       "      <td>Dinner</td>\n",
       "      <td>2</td>\n",
       "    </tr>\n",
       "    <tr>\n",
       "      <th>241</th>\n",
       "      <td>22.67</td>\n",
       "      <td>2.00</td>\n",
       "      <td>Male</td>\n",
       "      <td>Yes</td>\n",
       "      <td>Sat</td>\n",
       "      <td>Dinner</td>\n",
       "      <td>2</td>\n",
       "    </tr>\n",
       "    <tr>\n",
       "      <th>242</th>\n",
       "      <td>17.82</td>\n",
       "      <td>1.75</td>\n",
       "      <td>Male</td>\n",
       "      <td>No</td>\n",
       "      <td>Sat</td>\n",
       "      <td>Dinner</td>\n",
       "      <td>2</td>\n",
       "    </tr>\n",
       "    <tr>\n",
       "      <th>243</th>\n",
       "      <td>18.78</td>\n",
       "      <td>3.00</td>\n",
       "      <td>Female</td>\n",
       "      <td>No</td>\n",
       "      <td>Thur</td>\n",
       "      <td>Dinner</td>\n",
       "      <td>2</td>\n",
       "    </tr>\n",
       "  </tbody>\n",
       "</table>\n",
       "<p>244 rows × 7 columns</p>\n",
       "</div>"
      ],
      "text/plain": [
       "     total_bill   tip     sex smoker   day    time  size\n",
       "0         16.99  1.01  Female     No   Sun  Dinner     2\n",
       "1         10.34  1.66    Male     No   Sun  Dinner     3\n",
       "2         21.01  3.50    Male     No   Sun  Dinner     3\n",
       "3         23.68  3.31    Male     No   Sun  Dinner     2\n",
       "4         24.59  3.61  Female     No   Sun  Dinner     4\n",
       "..          ...   ...     ...    ...   ...     ...   ...\n",
       "239       29.03  5.92    Male     No   Sat  Dinner     3\n",
       "240       27.18  2.00  Female    Yes   Sat  Dinner     2\n",
       "241       22.67  2.00    Male    Yes   Sat  Dinner     2\n",
       "242       17.82  1.75    Male     No   Sat  Dinner     2\n",
       "243       18.78  3.00  Female     No  Thur  Dinner     2\n",
       "\n",
       "[244 rows x 7 columns]"
      ]
     },
     "execution_count": 4,
     "metadata": {},
     "output_type": "execute_result"
    }
   ],
   "source": [
    "df = df.drop(columns=['Unnamed: 0'])\n",
    "df"
   ]
  },
  {
   "cell_type": "markdown",
   "id": "dad58da6",
   "metadata": {},
   "source": [
    "3. Cho biết dữ liệu có bao nhiêu dòng, bao nhiêu thuộc tính.\n"
   ]
  },
  {
   "cell_type": "code",
   "execution_count": 6,
   "id": "adad9451-f5cd-4174-b97d-ca0f127935a5",
   "metadata": {},
   "outputs": [
    {
     "name": "stdout",
     "output_type": "stream",
     "text": [
      "Dữ liệu có 244 dòng và 7 cột\n"
     ]
    }
   ],
   "source": [
    "num_row, num_col = df.shape\n",
    "\n",
    "print(f'Dữ liệu có {num_row} dòng và {num_col} cột')"
   ]
  },
  {
   "cell_type": "markdown",
   "id": "0fdf2b40",
   "metadata": {},
   "source": [
    "4. Trong các thuộc tính, thuộc tính nào là thuộc tính phân loại, thuộc tính nào là thuộc tính định lượng"
   ]
  },
  {
   "cell_type": "code",
   "execution_count": 7,
   "id": "34043c4d-8a14-4761-8ebf-1109ae2e1eed",
   "metadata": {},
   "outputs": [
    {
     "data": {
      "text/plain": [
       "total_bill    float64\n",
       "tip           float64\n",
       "sex            object\n",
       "smoker         object\n",
       "day            object\n",
       "time           object\n",
       "size            int64\n",
       "dtype: object"
      ]
     },
     "execution_count": 7,
     "metadata": {},
     "output_type": "execute_result"
    }
   ],
   "source": [
    "df.dtypes"
   ]
  },
  {
   "cell_type": "markdown",
   "id": "2f003b0f",
   "metadata": {},
   "source": [
    "5. Có bao nhiêu nam, bao nhiêu nữ. Tỷ lệ bao nhiêu?\n"
   ]
  },
  {
   "cell_type": "code",
   "execution_count": 10,
   "id": "77594f02-fbfb-4d3e-839b-84506790335a",
   "metadata": {},
   "outputs": [
    {
     "name": "stdout",
     "output_type": "stream",
     "text": [
      "Có 157 nam và 87 nữ\n"
     ]
    }
   ],
   "source": [
    "count_sex = df['sex'].value_counts()\n",
    "print(f'Có {count_sex['Male']} nam và {count_sex['Female']} nữ')"
   ]
  },
  {
   "cell_type": "markdown",
   "id": "437c70c6",
   "metadata": {},
   "source": [
    "6. Có bao nhiêu người hút thuốc. Tỷ lệ bao nhiêu?\n"
   ]
  },
  {
   "cell_type": "code",
   "execution_count": 19,
   "id": "07dd6cf7-7350-42c9-ae3a-cc824fcbfa25",
   "metadata": {},
   "outputs": [
    {
     "name": "stdout",
     "output_type": "stream",
     "text": [
      "Có 93 người hút thuốc với tỉ lệ 38.11%\n"
     ]
    }
   ],
   "source": [
    "count_smorker = df['smoker'].value_counts()['Yes']\n",
    "rat_smorker = df['smoker'].value_counts(normalize=True)['Yes']\n",
    "print(f'Có {count_smorker} người hút thuốc với tỉ lệ {(rat_smorker*100):.2f}%')"
   ]
  },
  {
   "cell_type": "markdown",
   "id": "57357236",
   "metadata": {},
   "source": [
    "7. Ngày nào trong tuần khách hàng hay đến dùng bữa nhất. Tỷ lệ bao nhiêu?\n"
   ]
  },
  {
   "cell_type": "code",
   "execution_count": 24,
   "id": "e763a13a-d9fe-4de4-a5b2-2e787c4d5b31",
   "metadata": {},
   "outputs": [
    {
     "name": "stdout",
     "output_type": "stream",
     "text": [
      "Ngày nhà hàng phục vụ nhiều nhất là Sat với tỉ lệ 35.66\n"
     ]
    }
   ],
   "source": [
    "day_most = df['day'].value_counts().idxmax()\n",
    "rat_day_most = df['day'].value_counts(normalize=True)[day_most]\n",
    "print(f'Ngày nhà hàng phục vụ nhiều nhất là {day_most} với tỉ lệ {rat_day_most*100:.2f}%')"
   ]
  },
  {
   "cell_type": "markdown",
   "id": "21a07705",
   "metadata": {},
   "source": [
    "8. Nhà hàng phục vụ bữa ăn nào nhiều nhất (Breakfast, Lunch, Dinner)?\n"
   ]
  },
  {
   "cell_type": "markdown",
   "id": "352330f5",
   "metadata": {},
   "source": [
    "9. Nhóm khách hàng dùng bữa tại nhà hàng nhiều nhất là bao nhiêu người?\n"
   ]
  },
  {
   "cell_type": "markdown",
   "id": "9d3853cc",
   "metadata": {},
   "source": [
    "10. Trung bình trong một bữa ăn nhà hàng phục vụ mấy khách?"
   ]
  },
  {
   "cell_type": "markdown",
   "id": "f00a377c",
   "metadata": {},
   "source": [
    "## YẾU TỐ ẢNH HƯỞNG ĐẾN TIỀN TIP\n",
    "\n",
    "Trong phần này, chúng ta thử tìm hiểu về tiền tip tại nhà hàng và các yếu tố có thể ảnh hưởng đến nó"
   ]
  },
  {
   "cell_type": "markdown",
   "id": "ba58ca8d",
   "metadata": {},
   "source": [
    "1. Tỷ lệ nhận được tiền tip của nhà hàng là bao nhiêu?\n"
   ]
  },
  {
   "cell_type": "markdown",
   "id": "0fa98bc7",
   "metadata": {},
   "source": [
    "2. Tỷ lệ tiền tip trên tổng hóa đơn là bao nhiêu?\n"
   ]
  },
  {
   "cell_type": "markdown",
   "id": "dcab5529",
   "metadata": {},
   "source": [
    "3. Giữa nam và nữ ai tip nhiều tiền hơn, ai tip thường xuyên hơn?\n"
   ]
  },
  {
   "cell_type": "markdown",
   "id": "0d8fbb8b",
   "metadata": {},
   "source": [
    "4. Giữa người hút thuốc và người không hút thuốc ai tip nhiều tiền hơn, ai tip thường xuyên hơn?\n"
   ]
  },
  {
   "cell_type": "markdown",
   "id": "79cb7d08",
   "metadata": {},
   "source": [
    "5. Thống kê tổng số tiền tip nhận được theo ngày."
   ]
  },
  {
   "cell_type": "markdown",
   "id": "de38a759",
   "metadata": {},
   "source": [
    "# TRỰC QUAN DỮ LIỆU\n",
    "\n",
    "Để dễ hình dung, bạn hãy trực quan với một số câu hỏi sau đây:\n",
    "\n",
    "1. Vẽ đồ thị thể hiện tổng tiền tip theo ngày\n"
   ]
  },
  {
   "cell_type": "markdown",
   "id": "d230d0ee",
   "metadata": {},
   "source": [
    "2. Vẽ đồ thị thể hiện tổng tiền tip theo bữa ăn (time)\n"
   ]
  },
  {
   "cell_type": "markdown",
   "id": "b297d39b",
   "metadata": {},
   "source": [
    "3. Vẽ đồ thị histogram của tổng hoá đơn\n"
   ]
  },
  {
   "cell_type": "markdown",
   "id": "90edc49c",
   "metadata": {},
   "source": [
    "4. Vẽ đồ thị boxplot của tổng hoá đơn\n"
   ]
  },
  {
   "cell_type": "markdown",
   "id": "877ed0eb",
   "metadata": {},
   "source": [
    "5. Vẽ đồ thị để kiểm tra sự liên quan giữa tổng hoá đơn và tiền tip.\n"
   ]
  },
  {
   "cell_type": "markdown",
   "id": "0692b101",
   "metadata": {},
   "source": [
    "6. So sánh số tiền mà khách hàng đã chi giữa các ngày trong tuần."
   ]
  },
  {
   "cell_type": "markdown",
   "id": "d5c79bea",
   "metadata": {},
   "source": [
    "## Với Matplotlib\n",
    "\n",
    "Bạn hãy trực quan với thư viện matplotlib"
   ]
  },
  {
   "cell_type": "markdown",
   "id": "ab171a52",
   "metadata": {},
   "source": []
  },
  {
   "cell_type": "markdown",
   "id": "816cf7bf",
   "metadata": {},
   "source": [
    "## Với Seaborn\n",
    "\n",
    "Bạn hãy tìm hiểu và trực quan với thư viện seaborn"
   ]
  },
  {
   "cell_type": "code",
   "execution_count": null,
   "id": "eb35f63a",
   "metadata": {},
   "outputs": [],
   "source": []
  }
 ],
 "metadata": {
  "kernelspec": {
   "display_name": "Python 3 (ipykernel)",
   "language": "python",
   "name": "python3"
  },
  "language_info": {
   "codemirror_mode": {
    "name": "ipython",
    "version": 3
   },
   "file_extension": ".py",
   "mimetype": "text/x-python",
   "name": "python",
   "nbconvert_exporter": "python",
   "pygments_lexer": "ipython3",
   "version": "3.12.1"
  }
 },
 "nbformat": 4,
 "nbformat_minor": 5
}
