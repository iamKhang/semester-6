{
 "cells": [
  {
   "cell_type": "markdown",
   "id": "15e9ec4f",
   "metadata": {},
   "source": [
    "# KHÁM PHÁ DỮ LIỆU\n",
    "\n",
    "Dữ liệu chứa trong file `tips.csv` chứa thông tin tiền tip của khách hàng tại một nhà hàng. Dữ liệu có các thông tin sau:\n",
    "\n",
    "- `total_bill`: tổng hoá đơn (USD)\n",
    "- `tip`: tiền tip/ tiền boa (USD)\n",
    "- `sex`: giới tính người thanh toán hóa đơn\n",
    "- `smoker`: có hút thuốc hay không\n",
    "- `day`: ngày trong tuần\n",
    "- `time`: thời gian dùng bữa(buổi sáng, buổi trưa, buổi tối)\n",
    "- `size`: số lượng người tham gia\n",
    "\n",
    "Bạn hãy thực hiện thống kê mô tả để tìm hiểu về hành vi tip của khách hàng tại nhà hàng"
   ]
  },
  {
   "cell_type": "markdown",
   "id": "02bd0e4c",
   "metadata": {},
   "source": [
    "## HIỂU DỮ LIỆU"
   ]
  },
  {
   "cell_type": "markdown",
   "id": "d846edfc",
   "metadata": {},
   "source": [
    "1. Đọc dữ liệu\n"
   ]
  },
  {
   "cell_type": "code",
   "execution_count": 8,
   "id": "35b063b2",
   "metadata": {},
   "outputs": [
    {
     "name": "stdout",
     "output_type": "stream",
     "text": [
      "     Unnamed: 0  total_bill   tip     sex smoker   day    time  size\n",
      "0             0       16.99  1.01  Female     No   Sun  Dinner     2\n",
      "1             1       10.34  1.66    Male     No   Sun  Dinner     3\n",
      "2             2       21.01  3.50    Male     No   Sun  Dinner     3\n",
      "3             3       23.68  3.31    Male     No   Sun  Dinner     2\n",
      "4             4       24.59  3.61  Female     No   Sun  Dinner     4\n",
      "..          ...         ...   ...     ...    ...   ...     ...   ...\n",
      "239         239       29.03  5.92    Male     No   Sat  Dinner     3\n",
      "240         240       27.18  2.00  Female    Yes   Sat  Dinner     2\n",
      "241         241       22.67  2.00    Male    Yes   Sat  Dinner     2\n",
      "242         242       17.82  1.75    Male     No   Sat  Dinner     2\n",
      "243         243       18.78  3.00  Female     No  Thur  Dinner     2\n",
      "\n",
      "[244 rows x 8 columns]\n"
     ]
    }
   ],
   "source": [
    "import pandas as pd\n",
    "\n",
    "df = pd.read_csv('tips.csv')\n",
    "\n",
    "print(df)"
   ]
  },
  {
   "cell_type": "markdown",
   "id": "7392793c",
   "metadata": {},
   "source": [
    "2. Xoá cột `Unnamed: 0`\n"
   ]
  },
  {
   "cell_type": "code",
   "execution_count": 9,
   "id": "ab273fb7",
   "metadata": {},
   "outputs": [
    {
     "name": "stdout",
     "output_type": "stream",
     "text": [
      "     total_bill   tip     sex smoker   day    time  size\n",
      "0         16.99  1.01  Female     No   Sun  Dinner     2\n",
      "1         10.34  1.66    Male     No   Sun  Dinner     3\n",
      "2         21.01  3.50    Male     No   Sun  Dinner     3\n",
      "3         23.68  3.31    Male     No   Sun  Dinner     2\n",
      "4         24.59  3.61  Female     No   Sun  Dinner     4\n",
      "..          ...   ...     ...    ...   ...     ...   ...\n",
      "239       29.03  5.92    Male     No   Sat  Dinner     3\n",
      "240       27.18  2.00  Female    Yes   Sat  Dinner     2\n",
      "241       22.67  2.00    Male    Yes   Sat  Dinner     2\n",
      "242       17.82  1.75    Male     No   Sat  Dinner     2\n",
      "243       18.78  3.00  Female     No  Thur  Dinner     2\n",
      "\n",
      "[244 rows x 7 columns]\n"
     ]
    }
   ],
   "source": [
    "df = df.drop(columns=['Unnamed: 0'])\n",
    "\n",
    "print(df)"
   ]
  },
  {
   "cell_type": "markdown",
   "id": "dad58da6",
   "metadata": {},
   "source": [
    "3. Cho biết dữ liệu có bao nhiêu dòng, bao nhiêu thuộc tính.\n"
   ]
  },
  {
   "cell_type": "code",
   "execution_count": 10,
   "id": "699fbe41",
   "metadata": {},
   "outputs": [
    {
     "name": "stdout",
     "output_type": "stream",
     "text": [
      "Số dòng của dữ liệu là 244 và số cột của dữ liệu là 7\n"
     ]
    }
   ],
   "source": [
    "num_row, num_cols = df.shape\n",
    "\n",
    "print(f'Số dòng của dữ liệu là {num_row} và số cột của dữ liệu là {num_cols}')"
   ]
  },
  {
   "cell_type": "markdown",
   "id": "0fdf2b40",
   "metadata": {},
   "source": [
    "4. Trong các thuộc tính, thuộc tính nào là thuộc tính phân loại, thuộc tính nào là thuộc tính định lượng"
   ]
  },
  {
   "cell_type": "code",
   "execution_count": 11,
   "id": "5a6ca413",
   "metadata": {},
   "outputs": [
    {
     "name": "stdout",
     "output_type": "stream",
     "text": [
      "total_bill    float64\n",
      "tip           float64\n",
      "sex            object\n",
      "smoker         object\n",
      "day            object\n",
      "time           object\n",
      "size            int64\n",
      "dtype: object\n"
     ]
    }
   ],
   "source": [
    "print(df.dtypes)"
   ]
  },
  {
   "cell_type": "markdown",
   "id": "2f003b0f",
   "metadata": {},
   "source": [
    "5. Có bao nhiêu nam, bao nhiêu nữ. Tỷ lệ bao nhiêu?\n"
   ]
  },
  {
   "cell_type": "code",
   "execution_count": 15,
   "id": "33e40f1b",
   "metadata": {},
   "outputs": [
    {
     "name": "stdout",
     "output_type": "stream",
     "text": [
      "sex\n",
      "Male      157\n",
      "Female     87\n",
      "Name: count, dtype: int64\n",
      "Số nam là: 157\n",
      "Số nữ là 87\n",
      "Tỉ lệ Nam/Nữ là 64.34 và 35.66\n"
     ]
    }
   ],
   "source": [
    "sex_count = df['sex'].value_counts()\n",
    "\n",
    "print(sex_count)\n",
    "\n",
    "num_male =sex_count['Male']\n",
    "num_female = sex_count['Female']\n",
    "total_people = df.shape[0]\n",
    "\n",
    "print(f'Số nam là: {num_male}')\n",
    "print(f'Số nữ là {num_female}')\n",
    "\n",
    "print(f'Tỉ lệ Nam/Nữ là {(num_male/total_people)*100:.2f} và {(num_female/total_people)*100:.2f}')"
   ]
  },
  {
   "cell_type": "markdown",
   "id": "437c70c6",
   "metadata": {},
   "source": [
    "6. Có bao nhiêu người hút thuốc. Tỷ lệ bao nhiêu?\n"
   ]
  },
  {
   "cell_type": "code",
   "execution_count": 25,
   "id": "de110df2",
   "metadata": {},
   "outputs": [
    {
     "name": "stdout",
     "output_type": "stream",
     "text": [
      "Số người hút thuốc 93 và chiếm tỉ lệ là 38.11%\n"
     ]
    }
   ],
   "source": [
    "smoker = df['smoker'].value_counts()\n",
    "smoker_normalized = df['smoker'].value_counts(normalize=True)\n",
    "\n",
    "print(f'Số người hút thuốc {smoker[\"Yes\"]} và chiếm tỉ lệ là {smoker_normalized[\"Yes\"] * 100:.2f}%')"
   ]
  },
  {
   "cell_type": "markdown",
   "id": "57357236",
   "metadata": {},
   "source": [
    "7. Ngày nào trong tuần khách hàng hay đến dùng bữa nhất. Tỷ lệ bao nhiêu?\n"
   ]
  },
  {
   "cell_type": "code",
   "execution_count": 32,
   "id": "55b2b1bb",
   "metadata": {},
   "outputs": [
    {
     "name": "stdout",
     "output_type": "stream",
     "text": [
      "Ngày trong tuần hay có khách dùng bữa nhất là Sat, với 87 khách và chiếm tỉ lệ 35.66%\n"
     ]
    }
   ],
   "source": [
    "day_counts = df['day'].value_counts()\n",
    "day_proportions = df['day'].value_counts(normalize=True)\n",
    "most_popular_day = day_counts.idxmax()\n",
    "\n",
    "print(f'Ngày trong tuần hay có khách dùng bữa nhất là {most_popular_day}, với {day_counts[most_popular_day]} khách và chiếm tỉ lệ {day_proportions[most_popular_day]*100:.2f}%')"
   ]
  },
  {
   "cell_type": "markdown",
   "id": "21a07705",
   "metadata": {},
   "source": [
    "8. Nhà hàng phục vụ bữa ăn nào nhiều nhất (Breakfast, Lunch, Dinner)?\n"
   ]
  },
  {
   "cell_type": "code",
   "execution_count": 35,
   "id": "7796cea3",
   "metadata": {},
   "outputs": [
    {
     "name": "stdout",
     "output_type": "stream",
     "text": [
      "Nhà hàng phục vụ Dinner nhiều nhất với 176 khách\n"
     ]
    }
   ],
   "source": [
    "meal_counts = df['time'].value_counts()\n",
    "most_popular_meal = meal_counts.idxmax()\n",
    "\n",
    "print(f'Nhà hàng phục vụ {most_popular_meal} nhiều nhất với {meal_counts[most_popular_meal]} khách')"
   ]
  },
  {
   "cell_type": "markdown",
   "id": "352330f5",
   "metadata": {},
   "source": [
    "9. Nhóm khách hàng dùng bữa tại nhà hàng nhiều nhất là bao nhiêu người?\n"
   ]
  },
  {
   "cell_type": "code",
   "execution_count": null,
   "id": "8c496650",
   "metadata": {},
   "outputs": [],
   "source": []
  },
  {
   "cell_type": "markdown",
   "id": "9d3853cc",
   "metadata": {},
   "source": [
    "10. Trung bình trong một bữa ăn nhà hàng phục vụ mấy khách?"
   ]
  },
  {
   "cell_type": "markdown",
   "id": "f00a377c",
   "metadata": {},
   "source": [
    "## YẾU TỐ ẢNH HƯỞNG ĐẾN TIỀN TIP\n",
    "\n",
    "Trong phần này, chúng ta thử tìm hiểu về tiền tip tại nhà hàng và các yếu tố có thể ảnh hưởng đến nó"
   ]
  },
  {
   "cell_type": "markdown",
   "id": "ba58ca8d",
   "metadata": {},
   "source": [
    "1. Tỷ lệ nhận được tiền tip của nhà hàng là bao nhiêu?\n",
    "2. Tỷ lệ tiền tip trên tổng hóa đơn là bao nhiêu?\n",
    "3. Giữa nam và nữ ai tip nhiều tiền hơn, ai tip thường xuyên hơn?\n",
    "4. Giữa người hút thuốc và người không hút thuốc ai tip nhiều tiền hơn, ai tip thường xuyên hơn?\n",
    "5. Thống kê tổng số tiền tip nhận được theo ngày."
   ]
  },
  {
   "cell_type": "markdown",
   "id": "de38a759",
   "metadata": {},
   "source": [
    "# TRỰC QUAN DỮ LIỆU\n",
    "\n",
    "Để dễ hình dung, bạn hãy trực quan với một số câu hỏi sau đây:\n",
    "\n",
    "1. Vẽ đồ thị thể hiện tổng tiền tip theo ngày\n",
    "2. Vẽ đồ thị thể hiện tổng tiền tip theo bữa ăn (time)\n",
    "3. Vẽ đồ thị histogram của tổng hoá đơn\n",
    "4. Vẽ đồ thị boxplot của tổng hoá đơn\n",
    "5. Vẽ đồ thị để kiểm tra sự liên quan giữa tổng hoá đơn và tiền tip.\n",
    "6. So sánh số tiền mà khách hàng đã chi giữa các ngày trong tuần."
   ]
  },
  {
   "cell_type": "markdown",
   "id": "d5c79bea",
   "metadata": {},
   "source": [
    "## Với Matplotlib\n",
    "\n",
    "Bạn hãy trực quan với thư viện matplotlib"
   ]
  },
  {
   "cell_type": "markdown",
   "id": "ab171a52",
   "metadata": {},
   "source": []
  },
  {
   "cell_type": "markdown",
   "id": "816cf7bf",
   "metadata": {},
   "source": [
    "## Với Seaborn\n",
    "\n",
    "Bạn hãy tìm hiểu và trực quan với thư viện seaborn"
   ]
  },
  {
   "cell_type": "code",
   "execution_count": null,
   "id": "eb35f63a",
   "metadata": {},
   "outputs": [],
   "source": []
  }
 ],
 "metadata": {
  "kernelspec": {
   "display_name": "Python 3 (ipykernel)",
   "language": "python",
   "name": "python3"
  },
  "language_info": {
   "codemirror_mode": {
    "name": "ipython",
    "version": 3
   },
   "file_extension": ".py",
   "mimetype": "text/x-python",
   "name": "python",
   "nbconvert_exporter": "python",
   "pygments_lexer": "ipython3",
   "version": "3.11.5"
  }
 },
 "nbformat": 4,
 "nbformat_minor": 5
}
