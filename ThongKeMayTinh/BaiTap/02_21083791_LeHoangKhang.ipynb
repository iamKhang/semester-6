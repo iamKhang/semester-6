{
 "cells": [
  {
   "cell_type": "markdown",
   "metadata": {},
   "source": [
    "# US Baby Name"
   ]
  },
  {
   "cell_type": "markdown",
   "metadata": {},
   "source": [
    "## GIỚI THIỆU\n",
    "Dữ Liệu `US_BaBy_Names.csv` chứa thông tin của các em bé sinh từ 2004 - 2014 tại Mỹ. Dựa vào tập dữ liệu trên, bạn hãy thực hiện các bài tập sau:"
   ]
  },
  {
   "cell_type": "markdown",
   "metadata": {},
   "source": [
    "## TÌM HIỂU DỮ LIỆU"
   ]
  },
  {
   "cell_type": "markdown",
   "metadata": {},
   "source": [
    "### 01. Đọc dữ liệu"
   ]
  },
  {
   "cell_type": "code",
   "execution_count": 8,
   "metadata": {},
   "outputs": [
    {
     "name": "stdout",
     "output_type": "stream",
     "text": [
      "         Unnamed: 0       Id     Name  Year Gender State  Count\n",
      "0             11349    11350     Emma  2004      F    AK     62\n",
      "1             11350    11351  Madison  2004      F    AK     48\n",
      "2             11351    11352   Hannah  2004      F    AK     46\n",
      "3             11352    11353    Grace  2004      F    AK     44\n",
      "4             11353    11354    Emily  2004      F    AK     41\n",
      "...             ...      ...      ...   ...    ...   ...    ...\n",
      "1016390     5647421  5647422     Seth  2014      M    WY      5\n",
      "1016391     5647422  5647423  Spencer  2014      M    WY      5\n",
      "1016392     5647423  5647424     Tyce  2014      M    WY      5\n",
      "1016393     5647424  5647425   Victor  2014      M    WY      5\n",
      "1016394     5647425  5647426   Waylon  2014      M    WY      5\n",
      "\n",
      "[1016395 rows x 7 columns]\n"
     ]
    }
   ],
   "source": [
    "import pandas as pd\n",
    "import numpy as np\n",
    "\n",
    "grades = pd.read_csv(\"US_Baby_Names.csv\", header = 0)\n",
    "print(grades)\n",
    "\n",
    "\n"
   ]
  },
  {
   "cell_type": "markdown",
   "metadata": {},
   "source": [
    "### 02. Hiển thị 10 dòng dữ liệu bất kỳ"
   ]
  },
  {
   "cell_type": "code",
   "execution_count": 9,
   "metadata": {},
   "outputs": [
    {
     "data": {
      "text/html": [
       "<div>\n",
       "<style scoped>\n",
       "    .dataframe tbody tr th:only-of-type {\n",
       "        vertical-align: middle;\n",
       "    }\n",
       "\n",
       "    .dataframe tbody tr th {\n",
       "        vertical-align: top;\n",
       "    }\n",
       "\n",
       "    .dataframe thead th {\n",
       "        text-align: right;\n",
       "    }\n",
       "</style>\n",
       "<table border=\"1\" class=\"dataframe\">\n",
       "  <thead>\n",
       "    <tr style=\"text-align: right;\">\n",
       "      <th></th>\n",
       "      <th>Unnamed: 0</th>\n",
       "      <th>Id</th>\n",
       "      <th>Name</th>\n",
       "      <th>Year</th>\n",
       "      <th>Gender</th>\n",
       "      <th>State</th>\n",
       "      <th>Count</th>\n",
       "    </tr>\n",
       "  </thead>\n",
       "  <tbody>\n",
       "    <tr>\n",
       "      <th>0</th>\n",
       "      <td>11349</td>\n",
       "      <td>11350</td>\n",
       "      <td>Emma</td>\n",
       "      <td>2004</td>\n",
       "      <td>F</td>\n",
       "      <td>AK</td>\n",
       "      <td>62</td>\n",
       "    </tr>\n",
       "    <tr>\n",
       "      <th>1</th>\n",
       "      <td>11350</td>\n",
       "      <td>11351</td>\n",
       "      <td>Madison</td>\n",
       "      <td>2004</td>\n",
       "      <td>F</td>\n",
       "      <td>AK</td>\n",
       "      <td>48</td>\n",
       "    </tr>\n",
       "    <tr>\n",
       "      <th>2</th>\n",
       "      <td>11351</td>\n",
       "      <td>11352</td>\n",
       "      <td>Hannah</td>\n",
       "      <td>2004</td>\n",
       "      <td>F</td>\n",
       "      <td>AK</td>\n",
       "      <td>46</td>\n",
       "    </tr>\n",
       "    <tr>\n",
       "      <th>3</th>\n",
       "      <td>11352</td>\n",
       "      <td>11353</td>\n",
       "      <td>Grace</td>\n",
       "      <td>2004</td>\n",
       "      <td>F</td>\n",
       "      <td>AK</td>\n",
       "      <td>44</td>\n",
       "    </tr>\n",
       "    <tr>\n",
       "      <th>4</th>\n",
       "      <td>11353</td>\n",
       "      <td>11354</td>\n",
       "      <td>Emily</td>\n",
       "      <td>2004</td>\n",
       "      <td>F</td>\n",
       "      <td>AK</td>\n",
       "      <td>41</td>\n",
       "    </tr>\n",
       "    <tr>\n",
       "      <th>5</th>\n",
       "      <td>11354</td>\n",
       "      <td>11355</td>\n",
       "      <td>Abigail</td>\n",
       "      <td>2004</td>\n",
       "      <td>F</td>\n",
       "      <td>AK</td>\n",
       "      <td>37</td>\n",
       "    </tr>\n",
       "    <tr>\n",
       "      <th>6</th>\n",
       "      <td>11355</td>\n",
       "      <td>11356</td>\n",
       "      <td>Olivia</td>\n",
       "      <td>2004</td>\n",
       "      <td>F</td>\n",
       "      <td>AK</td>\n",
       "      <td>33</td>\n",
       "    </tr>\n",
       "    <tr>\n",
       "      <th>7</th>\n",
       "      <td>11356</td>\n",
       "      <td>11357</td>\n",
       "      <td>Isabella</td>\n",
       "      <td>2004</td>\n",
       "      <td>F</td>\n",
       "      <td>AK</td>\n",
       "      <td>30</td>\n",
       "    </tr>\n",
       "    <tr>\n",
       "      <th>8</th>\n",
       "      <td>11357</td>\n",
       "      <td>11358</td>\n",
       "      <td>Alyssa</td>\n",
       "      <td>2004</td>\n",
       "      <td>F</td>\n",
       "      <td>AK</td>\n",
       "      <td>29</td>\n",
       "    </tr>\n",
       "    <tr>\n",
       "      <th>9</th>\n",
       "      <td>11358</td>\n",
       "      <td>11359</td>\n",
       "      <td>Sophia</td>\n",
       "      <td>2004</td>\n",
       "      <td>F</td>\n",
       "      <td>AK</td>\n",
       "      <td>28</td>\n",
       "    </tr>\n",
       "  </tbody>\n",
       "</table>\n",
       "</div>"
      ],
      "text/plain": [
       "   Unnamed: 0     Id      Name  Year Gender State  Count\n",
       "0       11349  11350      Emma  2004      F    AK     62\n",
       "1       11350  11351   Madison  2004      F    AK     48\n",
       "2       11351  11352    Hannah  2004      F    AK     46\n",
       "3       11352  11353     Grace  2004      F    AK     44\n",
       "4       11353  11354     Emily  2004      F    AK     41\n",
       "5       11354  11355   Abigail  2004      F    AK     37\n",
       "6       11355  11356    Olivia  2004      F    AK     33\n",
       "7       11356  11357  Isabella  2004      F    AK     30\n",
       "8       11357  11358    Alyssa  2004      F    AK     29\n",
       "9       11358  11359    Sophia  2004      F    AK     28"
      ]
     },
     "execution_count": 9,
     "metadata": {},
     "output_type": "execute_result"
    }
   ],
   "source": [
    "grades.head(10)"
   ]
  },
  {
   "cell_type": "markdown",
   "metadata": {},
   "source": [
    "### 03. Cho biết kích thước dữ liệu"
   ]
  },
  {
   "cell_type": "code",
   "execution_count": 10,
   "metadata": {},
   "outputs": [
    {
     "data": {
      "text/plain": [
       "(1016395, 7)"
      ]
     },
     "execution_count": 10,
     "metadata": {},
     "output_type": "execute_result"
    }
   ],
   "source": [
    "grades.shape"
   ]
  },
  {
   "cell_type": "markdown",
   "metadata": {},
   "source": [
    "### 04. Xóa 2 cột 'Unnamed: 0' and 'Id'"
   ]
  },
  {
   "cell_type": "code",
   "execution_count": 19,
   "metadata": {},
   "outputs": [
    {
     "data": {
      "text/html": [
       "<div>\n",
       "<style scoped>\n",
       "    .dataframe tbody tr th:only-of-type {\n",
       "        vertical-align: middle;\n",
       "    }\n",
       "\n",
       "    .dataframe tbody tr th {\n",
       "        vertical-align: top;\n",
       "    }\n",
       "\n",
       "    .dataframe thead th {\n",
       "        text-align: right;\n",
       "    }\n",
       "</style>\n",
       "<table border=\"1\" class=\"dataframe\">\n",
       "  <thead>\n",
       "    <tr style=\"text-align: right;\">\n",
       "      <th></th>\n",
       "      <th>Name</th>\n",
       "      <th>Year</th>\n",
       "      <th>Gender</th>\n",
       "      <th>State</th>\n",
       "      <th>Count</th>\n",
       "    </tr>\n",
       "  </thead>\n",
       "  <tbody>\n",
       "    <tr>\n",
       "      <th>0</th>\n",
       "      <td>Emma</td>\n",
       "      <td>2004</td>\n",
       "      <td>F</td>\n",
       "      <td>AK</td>\n",
       "      <td>62</td>\n",
       "    </tr>\n",
       "    <tr>\n",
       "      <th>1</th>\n",
       "      <td>Madison</td>\n",
       "      <td>2004</td>\n",
       "      <td>F</td>\n",
       "      <td>AK</td>\n",
       "      <td>48</td>\n",
       "    </tr>\n",
       "    <tr>\n",
       "      <th>2</th>\n",
       "      <td>Hannah</td>\n",
       "      <td>2004</td>\n",
       "      <td>F</td>\n",
       "      <td>AK</td>\n",
       "      <td>46</td>\n",
       "    </tr>\n",
       "    <tr>\n",
       "      <th>3</th>\n",
       "      <td>Grace</td>\n",
       "      <td>2004</td>\n",
       "      <td>F</td>\n",
       "      <td>AK</td>\n",
       "      <td>44</td>\n",
       "    </tr>\n",
       "    <tr>\n",
       "      <th>4</th>\n",
       "      <td>Emily</td>\n",
       "      <td>2004</td>\n",
       "      <td>F</td>\n",
       "      <td>AK</td>\n",
       "      <td>41</td>\n",
       "    </tr>\n",
       "    <tr>\n",
       "      <th>...</th>\n",
       "      <td>...</td>\n",
       "      <td>...</td>\n",
       "      <td>...</td>\n",
       "      <td>...</td>\n",
       "      <td>...</td>\n",
       "    </tr>\n",
       "    <tr>\n",
       "      <th>1016390</th>\n",
       "      <td>Seth</td>\n",
       "      <td>2014</td>\n",
       "      <td>M</td>\n",
       "      <td>WY</td>\n",
       "      <td>5</td>\n",
       "    </tr>\n",
       "    <tr>\n",
       "      <th>1016391</th>\n",
       "      <td>Spencer</td>\n",
       "      <td>2014</td>\n",
       "      <td>M</td>\n",
       "      <td>WY</td>\n",
       "      <td>5</td>\n",
       "    </tr>\n",
       "    <tr>\n",
       "      <th>1016392</th>\n",
       "      <td>Tyce</td>\n",
       "      <td>2014</td>\n",
       "      <td>M</td>\n",
       "      <td>WY</td>\n",
       "      <td>5</td>\n",
       "    </tr>\n",
       "    <tr>\n",
       "      <th>1016393</th>\n",
       "      <td>Victor</td>\n",
       "      <td>2014</td>\n",
       "      <td>M</td>\n",
       "      <td>WY</td>\n",
       "      <td>5</td>\n",
       "    </tr>\n",
       "    <tr>\n",
       "      <th>1016394</th>\n",
       "      <td>Waylon</td>\n",
       "      <td>2014</td>\n",
       "      <td>M</td>\n",
       "      <td>WY</td>\n",
       "      <td>5</td>\n",
       "    </tr>\n",
       "  </tbody>\n",
       "</table>\n",
       "<p>1016395 rows × 5 columns</p>\n",
       "</div>"
      ],
      "text/plain": [
       "            Name  Year Gender State  Count\n",
       "0           Emma  2004      F    AK     62\n",
       "1        Madison  2004      F    AK     48\n",
       "2         Hannah  2004      F    AK     46\n",
       "3          Grace  2004      F    AK     44\n",
       "4          Emily  2004      F    AK     41\n",
       "...          ...   ...    ...   ...    ...\n",
       "1016390     Seth  2014      M    WY      5\n",
       "1016391  Spencer  2014      M    WY      5\n",
       "1016392     Tyce  2014      M    WY      5\n",
       "1016393   Victor  2014      M    WY      5\n",
       "1016394   Waylon  2014      M    WY      5\n",
       "\n",
       "[1016395 rows x 5 columns]"
      ]
     },
     "execution_count": 19,
     "metadata": {},
     "output_type": "execute_result"
    }
   ],
   "source": [
    "grades.drop([\"Unnamed: 0\", \"Id\"], axis=1)"
   ]
  },
  {
   "cell_type": "markdown",
   "metadata": {},
   "source": [
    "### 05. Cho biết số lượng bé trai, bé gái?"
   ]
  },
  {
   "cell_type": "code",
   "execution_count": 27,
   "metadata": {},
   "outputs": [
    {
     "name": "stdout",
     "output_type": "stream",
     "text": [
      "Số lượng giới tính 'Nam': 457549\n",
      "Số lượng giới tính 'Nữ': 558846\n"
     ]
    }
   ],
   "source": [
    "\n",
    "gender_counts = grades['Gender'].value_counts()\n",
    "Female = gender_counts['F']\n",
    "Male = gender_counts['M']\n",
    "print(\"Số lượng giới tính 'Nam':\", Male)\n",
    "print(\"Số lượng giới tính 'Nữ':\", Female)"
   ]
  },
  {
   "cell_type": "markdown",
   "metadata": {},
   "source": [
    "### 06. Trong bộ dữ liệu có bao nhiêu tên khác nhau?"
   ]
  },
  {
   "cell_type": "code",
   "execution_count": 28,
   "metadata": {},
   "outputs": [
    {
     "data": {
      "text/plain": [
       "17632"
      ]
     },
     "execution_count": 28,
     "metadata": {},
     "output_type": "execute_result"
    }
   ],
   "source": [
    "grades['Name'].nunique()"
   ]
  },
  {
   "cell_type": "markdown",
   "metadata": {},
   "source": [
    "### 07. Tên nào xuất hiện ít nhất?"
   ]
  },
  {
   "cell_type": "code",
   "execution_count": 30,
   "metadata": {},
   "outputs": [
    {
     "name": "stdout",
     "output_type": "stream",
     "text": [
      "Số lượng ít nhất: 1\n",
      "Tên có số lượng ít nhất:\n",
      " Jese         1\n",
      "Rahat        1\n",
      "Daesha       1\n",
      "Nahlia       1\n",
      "Reyly        1\n",
      "            ..\n",
      "Lemar        1\n",
      "Hortencia    1\n",
      "Alie         1\n",
      "Nautika      1\n",
      "Endi         1\n",
      "Name: Name, Length: 3682, dtype: int64\n"
     ]
    }
   ],
   "source": [
    "name_counts = grades['Name'].value_counts()\n",
    "min_count_name = name_counts[name_counts == name_counts.min()]\n",
    "print(\"Số lượng ít nhất:\", name_counts.min())\n",
    "print(\"Tên có số lượng ít nhất:\\n\", min_count_name)"
   ]
  },
  {
   "cell_type": "markdown",
   "metadata": {},
   "source": [
    "### 08. Top 10 tên được sử dụng nhiều nhất?"
   ]
  },
  {
   "cell_type": "code",
   "execution_count": 31,
   "metadata": {},
   "outputs": [
    {
     "data": {
      "text/plain": [
       "Riley     1112\n",
       "Avery     1080\n",
       "Jordan    1073\n",
       "Peyton    1064\n",
       "Hayden    1049\n",
       "Taylor    1033\n",
       "Jayden    1031\n",
       "Alexis     984\n",
       "Payton     971\n",
       "Angel      962\n",
       "Name: Name, dtype: int64"
      ]
     },
     "execution_count": 31,
     "metadata": {},
     "output_type": "execute_result"
    }
   ],
   "source": [
    "name_counts.head(10)"
   ]
  },
  {
   "cell_type": "markdown",
   "metadata": {},
   "source": [
    "## TRỰC QUAN DỮ LIỆU"
   ]
  },
  {
   "cell_type": "markdown",
   "metadata": {},
   "source": [
    "### 09. Vẽ đồ thị top 10 tên xuất hiện nhiều nhất năm 2014"
   ]
  },
  {
   "cell_type": "code",
   "execution_count": 66,
   "metadata": {},
   "outputs": [
    {
     "name": "stdout",
     "output_type": "stream",
     "text": [
      "Avery      102\n",
      "Riley      100\n",
      "Hayden      98\n",
      "Peyton      96\n",
      "Parker      95\n",
      "Jordan      93\n",
      "Sawyer      91\n",
      "Rowan       91\n",
      "Charlie     90\n",
      "Logan       89\n",
      "Name: Name, dtype: int64\n"
     ]
    },
    {
     "data": {
      "image/png": "[encoded data removed]",
      "text/plain": [
       "<Figure size 432x288 with 1 Axes>"
      ]
     },
     "metadata": {
      "needs_background": "light"
     },
     "output_type": "display_data"
    }
   ],
   "source": [
    "import pandas as pd\n",
    "import matplotlib.pyplot as plt\n",
    "\n",
    "\n",
    "data_2014 = grades[grades['Year'] == 2014]\n",
    "\n",
    "\n",
    "name_counts_2014 = data_2014['Name'].value_counts()\n",
    "\n",
    "plt.plot(name_counts_2014.head(10))\n",
    "plt.title('Top 10 Tên Xuất Hiện Nhiều Nhất Năm 2014')\n",
    "plt.xlabel('Tên')\n",
    "plt.ylabel('Số Lần Xuất Hiện')\n",
    "plt.show()\n"
   ]
  },
  {
   "cell_type": "markdown",
   "metadata": {},
   "source": [
    "### 10. Vẽ đồ thị thể hiện tỷ lệ nam nữ qua các năm 2004-2014"
   ]
  },
  {
   "cell_type": "code",
   "execution_count": 10,
   "metadata": {},
   "outputs": [
    {
     "data": {
      "image/png": "[encoded data removed]",
      "text/plain": [
       "<Figure size 640x480 with 1 Axes>"
      ]
     },
     "metadata": {},
     "output_type": "display_data"
    }
   ],
   "source": [
    "import pandas as pd\n",
    "import matplotlib.pyplot as plt\n",
    "\n",
    "grades = pd.read_csv(\"US_Baby_Names.csv\", header = 0)\n",
    "\n",
    "grades = grades[(grades['Year'] >= 2004) & (grades['Year'] <= 2014)]\n",
    "\n",
    "\n",
    "grouped = grades.groupby(['Year', 'Gender'])['Count'].sum().unstack()\n",
    "\n",
    "\n",
    "grouped.plot(kind='bar', stacked=False)\n",
    "plt.title('Gender Ratio from 2004 to 2014')\n",
    "plt.xlabel('Year')\n",
    "plt.ylabel('Count')\n",
    "plt.show()"
   ]
  }
 ],
 "metadata": {
  "kernelspec": {
   "display_name": "Python 3",
   "language": "python",
   "name": "python3"
  },
  "language_info": {
   "codemirror_mode": {
    "name": "ipython",
    "version": 3
   },
   "file_extension": ".py",
   "mimetype": "text/x-python",
   "name": "python",
   "nbconvert_exporter": "python",
   "pygments_lexer": "ipython3",
   "version": "3.12.1"
  }
 },
 "nbformat": 4,
 "nbformat_minor": 4
}
