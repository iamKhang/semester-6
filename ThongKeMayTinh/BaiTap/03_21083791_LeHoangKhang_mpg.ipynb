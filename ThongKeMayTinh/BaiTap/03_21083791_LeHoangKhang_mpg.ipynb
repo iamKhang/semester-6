{
 "cells": [
  {
   "cell_type": "markdown",
   "metadata": {},
   "source": [
    "# Phân tích mức tiêu hao nhiên liệu"
   ]
  },
  {
   "cell_type": "markdown",
   "metadata": {
    "tags": []
   },
   "source": [
    "## 1. ĐỌC DỮ LIỆU\n",
    "\n",
    "Dữ liệu `mpg.csv` gồm các thông tin như sau:\n",
    "\n",
    "- **mpg**: Miles/(US) gallon số gallon xăng trên 1 dặm\n",
    "- **cylinders:** số lượng xilanh\n",
    "- **displacement:**  Displacement/ dung tích xilanh (cu.in / $inches^3$)\n",
    "- **horsepower:** công suất theo mã lực\n",
    "- **weight:** trọng lượng (pound)\n",
    "- **acceleration:** Gia tốc\n",
    "- **model_year:** Năm sản xuất\n",
    "- **origin:** Xuất xứ\n",
    "- **name:** Tên dòng xe\n"
   ]
  },
  {
   "cell_type": "markdown",
   "metadata": {},
   "source": [
    "## 2. TÌM HIỂU DỮ LIỆU"
   ]
  },
  {
   "cell_type": "markdown",
   "metadata": {},
   "source": [
    "### 2.1 Kiểm tra có dòng nào không có dữ liệu?"
   ]
  },
  {
   "cell_type": "code",
   "execution_count": 1,
   "metadata": {},
   "outputs": [
    {
     "name": "stdout",
     "output_type": "stream",
     "text": [
      "Các dòng có dữ liệu thiếu:\n",
      "      mpg  cylinders  displacement  horsepower  weight  acceleration  \\\n",
      "32   25.0          4          98.0         NaN    2046          19.0   \n",
      "126  21.0          6         200.0         NaN    2875          17.0   \n",
      "330  40.9          4          85.0         NaN    1835          17.3   \n",
      "336  23.6          4         140.0         NaN    2905          14.3   \n",
      "354  34.5          4         100.0         NaN    2320          15.8   \n",
      "374  23.0          4         151.0         NaN    3035          20.5   \n",
      "\n",
      "     model_year  origin                  name  \n",
      "32           71     usa            ford pinto  \n",
      "126          74     usa         ford maverick  \n",
      "330          80  europe  renault lecar deluxe  \n",
      "336          80     usa    ford mustang cobra  \n",
      "354          81  europe           renault 18i  \n",
      "374          82     usa        amc concord dl  \n"
     ]
    }
   ],
   "source": [
    "import pandas as pd\n",
    "df = pd.read_csv('mpg.csv')\n",
    "missing_data = df[df.isnull().any(axis=1)]\n",
    "\n",
    "\n",
    "print(\"Các dòng có dữ liệu thiếu:\")\n",
    "print(missing_data)\n"
   ]
  },
  {
   "cell_type": "markdown",
   "metadata": {},
   "source": [
    "### 2.2 Xóa các dòng không có dữ liệu\n"
   ]
  },
  {
   "cell_type": "code",
   "execution_count": null,
   "metadata": {},
   "outputs": [],
   "source": [
    "import pandas as pd\n",
    "\n",
    "df_cleaned = df.dropna(inplace = True)\n",
    "print(\"DataFrame sau khi xóa dòng có dữ liệu NaN:\")\n",
    "print(df)\n"
   ]
  },
  {
   "cell_type": "markdown",
   "metadata": {},
   "source": [
    "### 2.3 Tìm trung binh, trung vị của các thuộc tính: 'cylinders', 'horsepower', 'weight'"
   ]
  },
  {
   "cell_type": "code",
   "execution_count": null,
   "metadata": {},
   "outputs": [],
   "source": [
    "import pandas as pd\n",
    "\n",
    "\n",
    "mean_cylinders = df['cylinders'].mean()\n",
    "median_cylinders = df['cylinders'].median()\n",
    "\n",
    "mean_horsepower = df['horsepower'].mean()\n",
    "median_horsepower = df['horsepower'].median()\n",
    "\n",
    "mean_weight = df['weight'].mean()\n",
    "median_weight = df['weight'].median()\n",
    "\n",
    "print(f\"Trung bình số cylinders: {mean_cylinders}\")\n",
    "print(f\"Trung vị số cylinders: {median_cylinders}\")\n",
    "print()\n",
    "print(f\"Trung bình công suất động cơ: {mean_horsepower}\")\n",
    "print(f\"Trung vị công suất động cơ: {median_horsepower}\")\n",
    "print()\n",
    "print(f\"Trung bình trọng lượng xe: {mean_weight}\")\n",
    "print(f\"Trung vị trọng lượng xe: {median_weight}\")\n"
   ]
  },
  {
   "cell_type": "markdown",
   "metadata": {},
   "source": [
    "### 2.4 Tìm miền giá trị và miền phân vị của thuộc tính 'mpg'"
   ]
  },
  {
   "cell_type": "code",
   "execution_count": null,
   "metadata": {},
   "outputs": [],
   "source": [
    "mpg_range = df['mpg'].max() - df['mpg'].min()\n",
    "print(f\"Miền giá trị của mpg là: {mpg_range}\")\n",
    "\n",
    "mpg_stats = df['mpg'].describe()\n",
    "print(f\"Miền phân vị: Q1: {mpg_stats['25%']}\")\n",
    "print(f\"Miền phân vị: Q2: {mpg_stats['50%']}\")\n",
    "print(f\"Miền phân vị: Q3: {mpg_stats['75%']}\")\n"
   ]
  },
  {
   "cell_type": "markdown",
   "metadata": {},
   "source": [
    "## 3. SO SÁNH MỨC TIÊU HAO NHIÊN LIỆU TRUNG BÌNH CỦA CÁC DÒNG XE DỰA TRÊN XUẤT XỨ\n",
    "\n",
    "So sánh mức tiêu hao nhiên liệu trung bình của các dòng xe Mỹ, Nhật và Châu Âu"
   ]
  },
  {
   "cell_type": "code",
   "execution_count": null,
   "metadata": {},
   "outputs": [],
   "source": [
    "import pandas as pd\n",
    "\n",
    "average_mpg_by_origin = df.groupby('origin')['mpg'].mean()\n",
    "\n",
    "print(\"Mức tiêu hao nhiên liệu trung bình theo xuất xứ:\")\n",
    "print(average_mpg_by_origin)\n"
   ]
  },
  {
   "cell_type": "markdown",
   "metadata": {},
   "source": [
    "## 4. VẼ HISTOGRAM TRỌNG LƯỢNG CÁC XE"
   ]
  },
  {
   "cell_type": "code",
   "execution_count": null,
   "metadata": {},
   "outputs": [],
   "source": [
    "import matplotlib.pyplot as plt\n",
    "\n",
    "plt.hist(df['weight'], bins=20, color='blue', edgecolor='black')\n",
    "\n",
    "plt.xlabel('Trọng lượng')\n",
    "plt.ylabel('Số lượng xe')\n",
    "plt.title('Histogram Trọng lượng Các Xe')\n",
    "\n",
    "plt.show()"
   ]
  },
  {
   "cell_type": "markdown",
   "metadata": {},
   "source": [
    "## 5. TÍNH TỶ LỆ CÁC DÒNG XE DỰA TRÊN XUẤT XỨ"
   ]
  },
  {
   "cell_type": "code",
   "execution_count": null,
   "metadata": {},
   "outputs": [],
   "source": [
    "df = pd.read_csv('mpg.csv')\n",
    "\n",
    "origin_counts = df['origin'].value_counts()\n",
    "plt.pie(origin_counts, labels=origin_counts.index, autopct='%1.1f%%', startangle=90)\n",
    "plt.title('Tỷ lệ các dòng xe dựa trên xuất xứ')\n",
    "\n",
    "plt.show()\n"
   ]
  },
  {
   "cell_type": "markdown",
   "metadata": {},
   "source": [
    "## 6. VẼ BOXPLOT SO SÁNH CÔNG SUẤT CỦA CÁC DÒNG XE THẬP NIÊN 70, 80\n",
    "\n",
    "Lưu ý: Các dòng xe thập niên 70 (1970 - 1979), thập niên 80 (1980 - 1989)"
   ]
  },
  {
   "cell_type": "code",
   "execution_count": null,
   "metadata": {},
   "outputs": [],
   "source": [
    "# Lấy dữ liệu cho thập niên 70 và 80\n",
    "df_70s = df[df['model_year'].between(70, 79)]\n",
    "df_80s = df[df['model_year'].between(80, 89)]\n",
    "\n",
    "# Lọc và xóa các giá trị NaN trong công suất\n",
    "horsepower_70s = df_70s['horsepower'].dropna().values\n",
    "horsepower_80s = df_80s['horsepower'].dropna().values\n",
    "\n",
    "# Vẽ boxplot so sánh công suất\n",
    "plt.figure(figsize=(10, 6))\n",
    "plt.boxplot([horsepower_70s, horsepower_80s], labels=['1970s', '1980s'])\n",
    "plt.title('So sánh công suất của các dòng xe thập niên 70 và 80')\n",
    "plt.xlabel('Thập niên')\n",
    "plt.ylabel('Công suất (horsepower)')\n",
    "plt.show()"
   ]
  },
  {
   "cell_type": "markdown",
   "metadata": {},
   "source": [
    "## 7. KHẢO SÁT MỨC TIÊU HAO NHIÊN LIỆU"
   ]
  },
  {
   "cell_type": "markdown",
   "metadata": {},
   "source": [
    "### 7.1 Với số lượng xi lanh"
   ]
  },
  {
   "cell_type": "markdown",
   "metadata": {},
   "source": [
    "Thử vẽ bằng đồ thị scatter plot."
   ]
  },
  {
   "cell_type": "code",
   "execution_count": null,
   "metadata": {},
   "outputs": [],
   "source": [
    "# Vẽ scatter plot\n",
    "plt.figure(figsize=(10, 6))\n",
    "plt.scatter(df['cylinders'], df['mpg'], alpha=0.5)\n",
    "plt.title('Mức tiêu hao nhiên liệu với số lượng xi lanh')\n",
    "plt.xlabel('Số lượng xi lanh')\n",
    "plt.ylabel('Mức tiêu hao nhiên liệu (mpg)')\n",
    "plt.show()\n"
   ]
  },
  {
   "cell_type": "markdown",
   "metadata": {},
   "source": [
    "### 7.2 Với công suất theo mã lực"
   ]
  },
  {
   "cell_type": "code",
   "execution_count": null,
   "metadata": {},
   "outputs": [],
   "source": [
    "plt.figure(figsize=(10, 6))\n",
    "plt.scatter(df['horsepower'], df['mpg'], alpha=0.5)\n",
    "plt.title('Mức tiêu hao nhiên liệu với công suất theo mã lực')\n",
    "plt.xlabel('Công suất (horsepower)')\n",
    "plt.ylabel('Mức tiêu hao nhiên liệu (mpg)')\n",
    "plt.show()"
   ]
  },
  {
   "cell_type": "markdown",
   "metadata": {},
   "source": [
    "### 7.3 Với gia tốc"
   ]
  },
  {
   "cell_type": "code",
   "execution_count": null,
   "metadata": {},
   "outputs": [],
   "source": [
    "plt.figure(figsize=(10, 6))\n",
    "plt.scatter(df['acceleration'], df['mpg'], alpha=0.5)\n",
    "plt.title('Mức tiêu hao nhiên liệu với gia tốc')\n",
    "plt.xlabel('Gia tốc')\n",
    "plt.ylabel('Mức tiêu hao nhiên liệu (mpg)')\n",
    "plt.show()"
   ]
  },
  {
   "cell_type": "markdown",
   "metadata": {},
   "source": [
    "### 7.4 Với năm sản xuất"
   ]
  },
  {
   "cell_type": "code",
   "execution_count": null,
   "metadata": {},
   "outputs": [],
   "source": [
    "plt.figure(figsize=(10, 6))\n",
    "plt.scatter(df['model_year'], df['mpg'], alpha=0.5)\n",
    "plt.title('Mức tiêu hao nhiên liệu theo năm sản xuất')\n",
    "plt.xlabel('Năm sản xuất')\n",
    "plt.ylabel('Mức tiêu hao nhiên liệu (mpg)')\n",
    "plt.show()"
   ]
  },
  {
   "cell_type": "code",
   "execution_count": null,
   "metadata": {},
   "outputs": [],
   "source": []
  }
 ],
 "metadata": {
  "kernelspec": {
   "display_name": "Python 3",
   "language": "python",
   "name": "python3"
  },
  "language_info": {
   "codemirror_mode": {
    "name": "ipython",
    "version": 3
   },
   "file_extension": ".py",
   "mimetype": "text/x-python",
   "name": "python",
   "nbconvert_exporter": "python",
   "pygments_lexer": "ipython3",
   "version": "3.11.5"
  }
 },
 "nbformat": 4,
 "nbformat_minor": 4
}
